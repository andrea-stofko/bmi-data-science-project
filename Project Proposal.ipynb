{
 "cells": [
  {
   "cell_type": "markdown",
   "id": "210d22d6-8283-41f0-ad79-6e280ba14048",
   "metadata": {},
   "source": [
    "# Basic Info\n",
    "## Title: Physical exam findings for DKA patients as a predictor for severity of GCS/cerebral edema.\n",
    "## Members\n",
    "- Nate Hayward - Nate.Hayward@hsc.utah.edu - u6031381\n",
    "- Joshua Kawasaki - J.K.Kawasaki@utah.edu - u1424902\n",
    "- Andrea Stofko - Andrea.Stofko@utah.edu - u6040357"
   ]
  },
  {
   "cell_type": "markdown",
   "id": "913e6db7-2ed9-4d42-a5a3-b43dd734fae7",
   "metadata": {},
   "source": [
    "# Background and Motivation\n",
    "<span style=\"color:blue\">Discuss your motivations and reasons for choosing this project, especially any background or research interests that may have influenced your decision.</span>\n"
   ]
  },
  {
   "cell_type": "markdown",
   "id": "e9926372-80ca-4c1a-9199-48eecc3c8732",
   "metadata": {},
   "source": [
    "# Project Objectives\n",
    "<span style=\"color:blue\">Provide the primary questions you are trying to answer in your project. What would you like to learn and accomplish? List the benefits.  \n",
    "This should include both questions about the data and any learning objectives you would like to fulfill. In other words, there are two kinds of benefits to address.</span>"
   ]
  },
  {
   "cell_type": "markdown",
   "id": "bb26d437-dca3-4a12-8fa8-457ea5fd6693",
   "metadata": {},
   "source": [
    "# Data Description and Acquisition\n",
    "<span style=\"color:blue\">What format is your data in? How many items are there? What attributes do those items have? Are there special structures in it (e.g., networks, geographical)? From where and how are you collecting your data? If appropriate, provide a link to your data sources.</span>\n",
    "* This part should be specific enough that the instructional staff is assured you have or will be able to obtain data.\n",
    "    * If it’s online through direct download, link to the specific page from which you will download it.\n",
    "    * If you will scrape it from the web, link to the page from which you will scrape it and a statement regarding how you have confirmed you are permitted to scrape it.\n",
    "    * If you will use an API to access it, link to the documentation of the API and explain how you have access to that API\n",
    "        * If it requires an account, state you have one.\n",
    "        * If it doesn’t require an account, state that it does not require one.\n",
    "    * If it is data you have access to through other means, describe in detail what the data is, how you have access to it, and why you have permission to use it."
   ]
  },
  {
   "cell_type": "markdown",
   "id": "26d89558-6c5a-4d5b-b5a3-369628435771",
   "metadata": {},
   "source": [
    "# Ethical Considerations\n",
    "<span style=\"color:blue\">Complete a stakeholder analysis for your project.  \n",
    "Who may be affected by your project and its outcomes? How could you project be used for harm?</span>"
   ]
  },
  {
   "cell_type": "markdown",
   "id": "538ec624-2fff-41a8-b604-106ef577d1c4",
   "metadata": {},
   "source": [
    "# Data Cleaning and Processing\n",
    "<span style=\"color:blue\">Do you expect to do substantial data cleanup or data extraction? What quantities do you plan to derive from your data? How will data processing be implemented?</span>"
   ]
  },
  {
   "cell_type": "markdown",
   "id": "9060bf2e-0f57-4813-915a-918192d6cc94",
   "metadata": {},
   "source": [
    "# Exploratory Analysis\n",
    "<span style=\"color:blue\">Which methods and visualizations are you planning to use to look at your dataset?</span>"
   ]
  },
  {
   "cell_type": "markdown",
   "id": "5947752d-4675-4cb8-97f6-078d8b1445f7",
   "metadata": {},
   "source": [
    "# Analysis Methodology\n",
    "<span style=\"color:blue\">How are you planning to analyze your data?  \n",
    "What specific questions do you hope to calculate?  \n",
    "What methods (from class or otherwise) do you think you will use?</span>"
   ]
  },
  {
   "cell_type": "markdown",
   "id": "997a0094-f95c-49c5-a03e-e66fffcdd88b",
   "metadata": {},
   "source": [
    "# Project Schedule\n",
    "Make sure that you plan your work so that you can avoid a big rush right before the final project deadline, and delegate different modules and responsibilities among your team members. Write this in terms of weekly deadlines.\n",
    "\n",
    "| Week of           | Task            | Assigned/Notes |\n",
    "| :---------------- | :-------------: | -------------: |\n",
    "| March 09          |                 |                |\n",
    "| March 16          |                 |                |\n",
    "| March 23          |                 |                |\n",
    "| March 30          |                 |                |\n",
    "| April 06          |                 |                |\n",
    "| April 13          |                 |                |\n",
    "| April 20          |                 |                |"
   ]
  }
 ],
 "metadata": {
  "kernelspec": {
   "display_name": "Python 3 (ipykernel)",
   "language": "python",
   "name": "python3"
  },
  "language_info": {
   "codemirror_mode": {
    "name": "ipython",
    "version": 3
   },
   "file_extension": ".py",
   "mimetype": "text/x-python",
   "name": "python",
   "nbconvert_exporter": "python",
   "pygments_lexer": "ipython3",
   "version": "3.13.0"
  }
 },
 "nbformat": 4,
 "nbformat_minor": 5
}
