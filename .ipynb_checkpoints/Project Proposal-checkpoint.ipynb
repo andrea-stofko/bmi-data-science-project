{
 "cells": [
  {
   "cell_type": "markdown",
   "id": "210d22d6-8283-41f0-ad79-6e280ba14048",
   "metadata": {},
   "source": [
    "# Basic Info\n",
    "## Title: Physical exam findings for DKA patients as a predictor for severity of GCS/cerebral edema.\n",
    "## Members\n",
    "- Nate Hayward - Nate.Hayward@hsc.utah.edu - u6031381\n",
    "- Joshua Kawasaki - J.K.Kawasaki@utah.edu - u1424902\n",
    "- Andrea Stofko - Andrea.Stofko@utah.edu - u6040357"
   ]
  },
  {
   "cell_type": "markdown",
   "id": "913e6db7-2ed9-4d42-a5a3-b43dd734fae7",
   "metadata": {},
   "source": [
    "# Background and Motivation\n",
    "<span style=\"color:blue\">Discuss your motivations and reasons for choosing this project, especially any background or research interests that may have influenced your decision.</span>\n",
    "* Diabetic ketoacidosis (DKA) is a severe, potentially life-threatening complication arising from untreated or poorly managed diabetes. It occurs when insufficient insulin levels prevent glucose from entering cells, causing the liver to break down fats for energy. This process generates ketone bodies, which accumulate in the blood and lead to a patient’s blood becoming more acidic.\n",
    "* In advanced cases, DKA can cause severe altered mental status and require intubation. Care teams rely on the Glasgow Coma Scale (GCS/GCS-P), which evaluate eye, motor, and verbal responses, to assess a patient’s mental status. Changes in GCS scores, coupled with other clinical indicators are critical for gauging the severity of DKA and guiding treatment decisions. Without timely intervention, DKA can cause hypokalemia, cerebral edema, cardiac arrest, organ damage, coma, and death.\n",
    "* The impact of DKA is particularly pronounced in children. In the United States and Canada, approximately 30 percent of children diagnosed with type 1 diabetes mellitus (T1DM) present in DKA. As a chronic illness, there is a lifelong risk for developing DKA, with an annual incidence between 6-8 percent among children with an established T1DM diagnosis."
   ]
  },
  {
   "cell_type": "markdown",
   "id": "e9926372-80ca-4c1a-9199-48eecc3c8732",
   "metadata": {},
   "source": [
    "# Project Objectives\n",
    "<span style=\"color:blue\">Provide the primary questions you are trying to answer in your project. What would you like to learn and accomplish? List the benefits.  \n",
    "This should include both questions about the data and any learning objectives you would like to fulfill. In other words, there are two kinds of benefits to address.</span>\n",
    "* Our primary objective is to identify physical examination characteristics that predict severe altered mental status requiring intubation, urgent imaging, or escalation of care, in pediatric patients with DKA. We hope that finding these key predictors will help providers identify which patients may require more intensive care due to their risk of progression/decompensation.\n",
    "* We also hope to gain experience in working with large datasets and leveraging the power of large databases to:\n",
    "    * Gain experience at cleaning, transforming, and organizing a large volume of raw data to answer clinical questions. This includes: handling missing values, inconsistent data formats, and structuring data for analysis\n",
    "    * Use appropriate descriptive statistics and data visualizations to determine patterns in these data and display them in a way to demonstrate the findings so that others may benefit from these findings.\n",
    "    * Use findings to help augment clinical decision making by demonstrating the importance and potential significance of physical exam findings in pediatric DKA patients. \n",
    "    * Findings, if significant, would promote high-valued patient care that can be applied in any health care setting without the use of expensive resources (i.e. the physical exam is free of cost beyond the healthcare worker and may prevent unnecessary imaging/escalation of care)"
   ]
  },
  {
   "cell_type": "markdown",
   "id": "bb26d437-dca3-4a12-8fa8-457ea5fd6693",
   "metadata": {},
   "source": [
    "# Data Description and Acquisition\n",
    "<span style=\"color:blue\">What format is your data in? How many items are there? What attributes do those items have? Are there special structures in it (e.g., networks, geographical)? From where and how are you collecting your data? If appropriate, provide a link to your data sources.</span>\n",
    "* The Pediatric Emergency Care Applied Research Network (PECARN; found at https://pecarn.org/datasets/) has data available for download from a study named “Fluid Therapy and Cerebral Injury in Pediatric Diabetic Ketoacidosis (Fluid Therapy in DKA)”. Our team has already requested access, and we currently have copies of the data. This dataset, provided in 40 CSV files, contains detailed physical examination findings, laboratory values, medical history, imaging results, demographics, and any other pertinent data to facilitate conduction of this project.\n",
    "The dataset includes quantitative readings (integers and floats) and descriptive fields (strings; formatted as two columns: a common term [Normal, Abnormal, Not Assessed] and a further description).\n"
   ]
  },
  {
   "cell_type": "markdown",
   "id": "26d89558-6c5a-4d5b-b5a3-369628435771",
   "metadata": {},
   "source": [
    "# Ethical Considerations\n",
    "<span style=\"color:blue\">Complete a stakeholder analysis for your project.  \n",
    "Who may be affected by your project and its outcomes? How could you project be used for harm?</span>\n",
    "* Stakeholder Analysis:\n",
    "    * Primary Stakeholders:\n",
    "        * Pediatric Patients: pediatric patients are directly affected by this study, particularly those presenting in DKA. The findings could inform better-targeted interventions for those who require intubation, or escalation of care, which could improve morbidity and mortality. \n",
    "        * Parents and Guardians: Parents are invested in the care of their children and the study findings may help improve the quality and accuracy of pediatric patient care.\n",
    "    * Secondary Stakeholders:\n",
    "        * Healthcare Providers: The clinical decisions being made by healthcare providers can use the findings of this project to guide treatment decisions, such as whether or not a child in DKA should be intubated, receive brain imaging, or escalate their care. The project may affect the way they assess and intervene in cases of severe altered mental status in pediatric DKA patients.\n",
    "        * Healthcare Institutions: Hospitals may use the project findings to refine clinical guidelines and protocols. Additionally, improved decision-making may cut costs by reducing unnecessary workup including labs and imaging.\n",
    "    * Tertiary Stakeholders:\n",
    "        * Researchers and Academics: Anyone working on related projects or within the field of pediatric critical care, emergency medicine, or endocrinology who may build on these findings or validate our predictions.\n",
    "        * Public Health Organizations: Such as the American Academy of Pediatrics or other bodies interested in the improved management of DKA.\n",
    "\n",
    "\n",
    "* Ethical considerations:\n",
    "    * The potential benefit of our project is significant, as it may help identify children with DKA who are at high risk of requiring intubation, urgent imaging, and intensive care. However, any predictive model must also account for the risk of false positives (overestimating the need for intubation) and false negatives (missing those who do require intubation).\n",
    "    * Consideration: Regularly evaluate the accuracy and fairness of the model to ensure that it does not inadvertently cause harm by leading to unnecessary interventions or missed diagnoses. Ensure that the model recommendations are used in conjunction with clinical judgment to prevent potential harm to patients.\n",
    "    * Equitable Distribution of Burdens and Benefits: The benefits of the project could greatly impact pediatric care, particularly in identifying which children with DKA require the most intensive management. However, it is important to ensure that the benefits and burdens of the research are distributed equitably.\n",
    "    * Consideration: It is important to consider the diversity of the data. It is possible that the dataset is not representative of the entire pediatric population (e.g., underrepresentation of certain ethnic or socio-economic groups), and therefore the results of the model might not generalize well across all populations and could lead to inequities in care.\n"
   ]
  },
  {
   "cell_type": "markdown",
   "id": "538ec624-2fff-41a8-b604-106ef577d1c4",
   "metadata": {},
   "source": [
    "# Data Cleaning and Processing\n",
    "<span style=\"color:blue\">Do you expect to do substantial data cleanup or data extraction? What quantities do you plan to derive from your data? How will data processing be implemented?</span>"
   ]
  },
  {
   "cell_type": "markdown",
   "id": "9060bf2e-0f57-4813-915a-918192d6cc94",
   "metadata": {},
   "source": [
    "# Exploratory Analysis\n",
    "<span style=\"color:blue\">Which methods and visualizations are you planning to use to look at your dataset?</span>"
   ]
  },
  {
   "cell_type": "markdown",
   "id": "5947752d-4675-4cb8-97f6-078d8b1445f7",
   "metadata": {},
   "source": [
    "# Analysis Methodology\n",
    "<span style=\"color:blue\">How are you planning to analyze your data?  \n",
    "What specific questions do you hope to calculate?  \n",
    "What methods (from class or otherwise) do you think you will use?</span>"
   ]
  },
  {
   "cell_type": "markdown",
   "id": "997a0094-f95c-49c5-a03e-e66fffcdd88b",
   "metadata": {},
   "source": [
    "# Project Schedule\n",
    "Make sure that you plan your work so that you can avoid a big rush right before the final project deadline, and delegate different modules and responsibilities among your team members. Write this in terms of weekly deadlines.\n",
    "\n",
    "| Week of           | Task            | Assigned/Notes |\n",
    "| :---------------- | :-------------: | -------------: |\n",
    "| March 09          |                 |                |\n",
    "| March 16          |                 |                |\n",
    "| March 23          |                 |                |\n",
    "| March 30          |                 |                |\n",
    "| April 06          |                 |                |\n",
    "| April 13          |                 |                |\n",
    "| April 20          |                 |                |"
   ]
  }
 ],
 "metadata": {
  "kernelspec": {
   "display_name": "Python 3 (ipykernel)",
   "language": "python",
   "name": "python3"
  },
  "language_info": {
   "codemirror_mode": {
    "name": "ipython",
    "version": 3
   },
   "file_extension": ".py",
   "mimetype": "text/x-python",
   "name": "python",
   "nbconvert_exporter": "python",
   "pygments_lexer": "ipython3",
   "version": "3.12.5"
  }
 },
 "nbformat": 4,
 "nbformat_minor": 5
}
